{
  "nbformat": 4,
  "nbformat_minor": 0,
  "metadata": {
    "colab": {
      "name": "Assignment_1_gowda.ipynb",
      "provenance": [],
      "collapsed_sections": []
    },
    "kernelspec": {
      "name": "python3",
      "display_name": "Python 3"
    },
    "language_info": {
      "name": "python"
    }
  },
  "cells": [
    {
      "cell_type": "markdown",
      "source": [
        "**DATA LOADING AND DATA PREPROCESSING**"
      ],
      "metadata": {
        "id": "ukgMU-wT9zX1"
      }
    },
    {
      "cell_type": "code",
      "source": [
        "import pandas as pd \n",
        "import numpy as np\n",
        "from math import sqrt\n",
        "from collections import defaultdict\n",
        "\n",
        "ttn = pd.read_csv(\"https://github.com/andvise/DataAnalyticsDatasets/blob/16ca8de1233c8643bfe85fcd1cd87c9ff2221312/titanic.csv?raw=True\")"
      ],
      "metadata": {
        "id": "c8qURtrwxa7a"
      },
      "execution_count": 56,
      "outputs": []
    },
    {
      "cell_type": "code",
      "source": [
        "###Checking data types\n",
        "ttn.dtypes\n",
        "\n",
        "ttn.drop(['PassengerId','Name'], axis=1, inplace=True)\n"
      ],
      "metadata": {
        "id": "JKJ6MFXCQs9I"
      },
      "execution_count": 57,
      "outputs": []
    },
    {
      "cell_type": "code",
      "source": [
        "###Checking Missing Values in Variables\n",
        "ttn.isnull().sum()\n",
        "\n",
        "###Checking How Many Null Values are Present\n",
        "ttn['Parents/Children Aboard'].isnull().sum()\n",
        "\n",
        "###Replacing Missing Values with 0\n",
        "ttn['Parents/Children Aboard'] = ttn['Parents/Children Aboard'].fillna(0)\n"
      ],
      "metadata": {
        "id": "MU3lNT3yQnq1"
      },
      "execution_count": 58,
      "outputs": []
    },
    {
      "cell_type": "markdown",
      "source": [
        "**We can see that the Parents/Children Aboard column contains 1 NAN value.**"
      ],
      "metadata": {
        "id": "u22DRTYroqS6"
      }
    },
    {
      "cell_type": "code",
      "source": [
        "###Transforming 'Sex' into Numerical\n",
        "ttn['Sex'] = np.where(ttn['Sex'] == 'female', 0, 1)"
      ],
      "metadata": {
        "id": "JH9U0S8mTpFQ"
      },
      "execution_count": 59,
      "outputs": []
    },
    {
      "cell_type": "code",
      "source": [
        "###Assigning Predicting Variables to X and Target Variable Y\n",
        "x = ttn.iloc[:,1:]\n",
        "y = ttn.iloc[:,:1]\n"
      ],
      "metadata": {
        "id": "mFHA-cHqVDHU"
      },
      "execution_count": 60,
      "outputs": []
    },
    {
      "cell_type": "code",
      "source": [
        "def min_max_scale(column):\n",
        "\n",
        "    return(column-column.min())/(column.max() - column.min())\n",
        "\n",
        "#Scaling X and Y values\n",
        "for xcol in x.columns:\n",
        "    x[[xcol]] = min_max_scale(x[[xcol]])\n",
        "\n",
        "for ycol in y.columns:\n",
        "    y[[ycol]] = min_max_scale(y[[ycol]])\n",
        "\n",
        "    "
      ],
      "metadata": {
        "id": "cJfcdLCadjMf"
      },
      "execution_count": 62,
      "outputs": []
    },
    {
      "cell_type": "code",
      "source": [
        "###Dividing the data into Training and Testing Set(80% training data and 20% testing data)\n",
        "\n",
        "X_Train = x.sample(frac=0.8, random_state=1)\n",
        "X_Test = x.drop(X_Train.index)\n",
        "\n",
        "Y_Train = y.sample(frac=0.8, random_state=1)\n",
        "Y_Test = y.drop(Y_Train.index)"
      ],
      "metadata": {
        "id": "HZXKz2B1oeuM"
      },
      "execution_count": 63,
      "outputs": []
    },
    {
      "cell_type": "code",
      "source": [
        "#Shape of test and training data\n",
        "x_trdat_shape = X_Train.shape\n",
        "x_tedat_shape = X_Test.shape\n",
        "\n",
        "y_trdat_shape = Y_Train.shape\n",
        "y_tedat_shape = Y_Test.shape\n",
        "\n",
        "print(\"X Train Shape:\",x_trdat_shape)\n",
        "print(\"Y Train Shape:\",y_trdat_shape)\n",
        "print(\"X Test Shape:\",x_tedat_shape)\n",
        "print(\"Y Test Shape:\",y_tedat_shape)"
      ],
      "metadata": {
        "id": "l_LSbcT9gAKe",
        "colab": {
          "base_uri": "https://localhost:8080/"
        },
        "outputId": "bf48d2df-0d7c-4799-fad1-12ac0de6bfb5"
      },
      "execution_count": 64,
      "outputs": [
        {
          "output_type": "stream",
          "name": "stdout",
          "text": [
            "X Train Shape: (710, 6)\n",
            "Y Train Shape: (710, 1)\n",
            "X Test Shape: (177, 6)\n",
            "Y Test Shape: (177, 1)\n"
          ]
        }
      ]
    },
    {
      "cell_type": "markdown",
      "source": [
        "# Part 2 - k-NN implementation\n"
      ],
      "metadata": {
        "id": "cnIPDFkDRgQK"
      }
    },
    {
      "cell_type": "markdown",
      "source": [
        "Class to implement KNN"
      ],
      "metadata": {
        "id": "3_0_M0tG_EAb"
      }
    },
    {
      "cell_type": "code",
      "source": [
        "class KNN:\n",
        "\n",
        "    def __init__(self, k):\n",
        "        \n",
        "        self.k = k\n",
        "\n",
        "    def fit(self, X, y):\n",
        "        \"\"\"\n",
        "        This method fits the training data to the model. We also assume the length of the \n",
        "        training data and targets are same, else prediction method will break.\n",
        "        \"\"\"\n",
        "        assert len(X) == len(y)\n",
        "        self.X = X\n",
        "        self.y = y\n",
        "        return self\n",
        "\n",
        "    def _distance(self, data1, data2):\n",
        "        \"\"\"\n",
        "        Finding the Eucledian distance\n",
        "        \"\"\"\n",
        "        return np.sqrt(sum((data1 - data2)**2))\n",
        "  \n",
        "    def _predict_one(self, test):\n",
        "        \"\"\"\n",
        "        Method for fitted model which runs the X Test data comparing\n",
        "        the Euclidean distances between each point.\n",
        "        \"\"\"\n",
        "        distances = sorted((self._distance(x, test), y) for x, y in zip(self.X, self.y))\n",
        "        neighbors = distances[:self.k]\n",
        "        weights_by_class = defaultdict(list)\n",
        "        for a, b in neighbors:\n",
        "            weights_by_class[b].append(a)\n",
        "        return max((sum(val), key) for key, val in weights_by_class.items())[1]\n",
        "\n",
        "    def predict(self, X):\n",
        "        \"\"\"\n",
        "        Methods for predicting each instance\n",
        "        \"\"\"\n",
        "        return [self._predict_one(x) for x in X]\n",
        "\n",
        "    def score(self, X, y):\n",
        "        \"\"\"\n",
        "        Method for X Test and y Test, runs the data through the predict method.\n",
        "        \"\"\"\n",
        "        return sum(1 for pred, true in zip(self.predict(X), y) if pred == true) / len(y)"
      ],
      "metadata": {
        "id": "9csM9Gv2Q9Yr"
      },
      "execution_count": 84,
      "outputs": []
    },
    {
      "cell_type": "code",
      "source": [
        "###Method to flatten list of lists to a single list\n",
        "def flatten(t):\n",
        "    return [item for sublist in t for item in sublist]"
      ],
      "metadata": {
        "id": "8wkXA6N9vg_J"
      },
      "execution_count": 85,
      "outputs": []
    },
    {
      "cell_type": "markdown",
      "source": [
        "Implementation of KNN with inputs.\n",
        "\n",
        "Input paramaters \n",
        "X as numpy array,\n",
        "Y as list.\n",
        "\n"
      ],
      "metadata": {
        "id": "vqycKVEd_ltg"
      }
    },
    {
      "cell_type": "code",
      "source": [
        "###Instantiate the weighted KNN model with K\n",
        "knn_test_nbrs = KNN(k=5)\n",
        "\n",
        "###Fit the model to the training data.\n",
        "knn_test_nbrs.fit(X_Train.to_numpy(), flatten(Y_Train.values.tolist()))\n",
        "\n",
        "###Run predictions using the test sample data\n",
        "prediction = knn_test_nbrs.predict(X_Test.to_numpy())\n",
        "\n",
        "###Prediction accuracy\n",
        "knn_pred_acc = knn_test_nbrs.score(X_Test.to_numpy(),flatten(Y_Test.to_numpy()))\n",
        "\n",
        "data = {'y_Actual':   flatten(Y_Test.values.tolist()),\n",
        "       'y_Predicted': prediction \n",
        "       }\n",
        "df = pd.DataFrame(data, columns=['y_Actual','y_Predicted'])\n",
        "confusion_matrix = pd.crosstab(df['y_Actual'], df['y_Predicted'], \n",
        "                               rownames=['Actual'], colnames=['Predicted'], \n",
        "                               margins = True)\n",
        "\n",
        "print('The accuracy of the model is :', knn_pred_acc)\n",
        "print(\"***************************\")\n",
        "print(\"'Confusion Matrix'\")\n",
        "print(\"***************************\")\n",
        "print(confusion_matrix)"
      ],
      "metadata": {
        "colab": {
          "base_uri": "https://localhost:8080/"
        },
        "id": "IjaZJLdwvxLW",
        "outputId": "01c5789e-7b22-4b64-9b8d-e45f251d9a3a"
      },
      "execution_count": 86,
      "outputs": [
        {
          "output_type": "stream",
          "name": "stdout",
          "text": [
            "The accuracy of the model is : 0.864406779661017\n",
            "***************************\n",
            "'Confusion Matrix'\n",
            "***************************\n",
            "Predicted  0.0  1.0  All\n",
            "Actual                  \n",
            "0.0         96    8  104\n",
            "1.0         16   57   73\n",
            "All        112   65  177\n"
          ]
        }
      ]
    },
    {
      "cell_type": "markdown",
      "source": [
        "# Part 3 - Hyperparameters search \n"
      ],
      "metadata": {
        "id": "VTcjCv_lSB3r"
      }
    },
    {
      "cell_type": "code",
      "source": [
        "K=[1, 3, 5, 7, 9, 11]\n",
        "\n",
        "for i in K :\n",
        "  ###Instantiate the weighted KNN model with K\n",
        "  knn_test_nbrs = KNN(k=i)\n",
        "\n",
        "  ###Fit the model to the training data.\n",
        "  knn_test_nbrs.fit(X_Train.to_numpy(), flatten(Y_Train.values.tolist()))\n",
        "\n",
        "  ###Run some predictions using the test sample data.\n",
        "  prediction = knn_test_nbrs.predict(X_Test.to_numpy())\n",
        "\n",
        "  ###Prediction accuracy.\n",
        "  knn_pred_acc = knn_test_nbrs.score(X_Test.to_numpy(),flatten(Y_Test.to_numpy()))\n",
        "\n",
        "  print(\"The accuracy of the model is %f for K %d\" % (knn_pred_acc, i))\n",
        "\n"
      ],
      "metadata": {
        "id": "iQybOEzYSYdq",
        "colab": {
          "base_uri": "https://localhost:8080/"
        },
        "outputId": "1d775319-095d-4e6b-c454-544768c91e47"
      },
      "execution_count": 89,
      "outputs": [
        {
          "output_type": "stream",
          "name": "stdout",
          "text": [
            "The accuracy of the model is 0.819209 for K 1\n",
            "The accuracy of the model is 0.830508 for K 3\n",
            "The accuracy of the model is 0.864407 for K 5\n",
            "The accuracy of the model is 0.824859 for K 7\n",
            "The accuracy of the model is 0.790960 for K 9\n",
            "The accuracy of the model is 0.819209 for K 11\n"
          ]
        }
      ]
    },
    {
      "cell_type": "markdown",
      "source": [
        "# Part 4 - Weighted k-NN \n",
        "\n",
        "\n"
      ],
      "metadata": {
        "id": "-FMED-C_RZzq"
      }
    },
    {
      "cell_type": "markdown",
      "source": [
        "Class to implement KNN"
      ],
      "metadata": {
        "id": "CFGaXyl-Af76"
      }
    },
    {
      "cell_type": "code",
      "source": [
        "class WeightedKNN:\n",
        "\n",
        "    def __init__(self, k):\n",
        "\n",
        "        \"\"\"\n",
        "        Let k = assumed number of classifications.\n",
        "\n",
        "        \"\"\"\n",
        "        self.k = k\n",
        "\n",
        "    def fit(self, X, y):\n",
        "\n",
        "        \"\"\"\n",
        "        Method to fit Training data to the model. We also assume that \n",
        "        then length of the Training data and targets are the same.\n",
        "        \"\"\"\n",
        "        assert len(X) == len(y)\n",
        "        self.X = X\n",
        "        self.y = y\n",
        "        return self\n",
        "\n",
        "    def _distance(self, data1, data2):\n",
        "\n",
        "        \"\"\"\n",
        "        Finding the Eucledian distance\n",
        "        \"\"\"\n",
        "        return np.sqrt(sum((data1 - data2)**2))\n",
        "        \n",
        "\n",
        "    def _compute_weights(self, distances):\n",
        "\n",
        "       \"\"\"\n",
        "       Computing the weights using inverse distance\n",
        "       (if distance = 0, assign 1)\n",
        "       \"\"\"\n",
        "       matches = [(1, y) for d, y in distances if d == 0]\n",
        "       return matches if matches else [(1/pow(d, 2), y) for d, y in distances]\n",
        "  \n",
        "    def _predict_weight(self, test):\n",
        "\n",
        "        distances = sorted((self._distance(x, test), y) for x, y in zip(self.X, self.y))\n",
        "        weights = self._compute_weights(distances[:self.k])\n",
        "        weights_by_class = defaultdict(list)\n",
        "        for a, b in weights:\n",
        "            weights_by_class[b].append(a)\n",
        "        return max((sum(val), key) for key, val in weights_by_class.items())[1]\n",
        "\n",
        "    def predict(self, X):\n",
        "\n",
        "        return [self._predict_weight(x) for x in X]\n",
        "\n",
        "    def score(self, X, y):\n",
        "\n",
        "        \"\"\"\n",
        "        Method takes the X Test and y Test, runs the data through the predicted method.\n",
        "        \"\"\"\n",
        "        return sum(1 for pred, true in zip(self.predict(X), y) if pred == true) / len(y)"
      ],
      "metadata": {
        "id": "FwtZr4HURgfI"
      },
      "execution_count": 87,
      "outputs": []
    },
    {
      "cell_type": "code",
      "source": [
        "#Instantiate the weighted KNN model with K\n",
        "wknn_test_nbrs = WeightedKNN(k=5)\n",
        "\n",
        "# Fit the model to the training data.\n",
        "wknn_test_nbrs.fit(X_Train.to_numpy(), flatten(Y_Train.values.tolist()))\n",
        "\n",
        "# Run some predictions using the test sample data.\n",
        "prediction = wknn_test_nbrs.predict(X_Test.to_numpy())\n",
        "\n",
        "# Prediction accuracy.\n",
        "wknn_pred_acc = wknn_test_nbrs.score(X_Test.to_numpy(),flatten(Y_Test.to_numpy()))\n",
        "\n",
        "data = {'y_Actual':   flatten(Y_Test.values.tolist()),\n",
        "       'y_Predicted': prediction \n",
        "       }\n",
        "df = pd.DataFrame(data, columns=['y_Actual','y_Predicted'])\n",
        "confusion_matrix = pd.crosstab(df['y_Actual'], df['y_Predicted'], \n",
        "                               rownames=['Actual'], colnames=['Predicted'], \n",
        "                               margins = True)\n",
        "\n",
        "print('The accuracy of the model is :', wknn_pred_acc)\n",
        "print(\"***************************\")\n",
        "print(\"'Confusion Matrix'\")\n",
        "print(\"***************************\")\n",
        "print(confusion_matrix)\n"
      ],
      "metadata": {
        "colab": {
          "base_uri": "https://localhost:8080/"
        },
        "id": "avzMkYxE4VSH",
        "outputId": "a83d5a01-2b07-4e91-c8b8-646b732a2ca0"
      },
      "execution_count": 88,
      "outputs": [
        {
          "output_type": "stream",
          "name": "stdout",
          "text": [
            "The accuracy of the model is : 0.8418079096045198\n",
            "***************************\n",
            "'Confusion Matrix'\n",
            "***************************\n",
            "Predicted  0.0  1.0  All\n",
            "Actual                  \n",
            "0.0         92   12  104\n",
            "1.0         16   57   73\n",
            "All        108   69  177\n"
          ]
        }
      ]
    },
    {
      "cell_type": "code",
      "source": [
        "K=[1, 3, 5, 7, 9, 11]\n",
        "\n",
        "for i in K :\n",
        "  #Instantiate the weighted KNN model with K\n",
        "  wknn_test_nbrs = WeightedKNN(k=i)\n",
        "\n",
        "  # Fit the model to the training data.\n",
        "  wknn_test_nbrs.fit(X_Train.to_numpy(), flatten(Y_Train.values.tolist()))\n",
        "\n",
        "  # Run some predictions using the test sample data.\n",
        "  prediction = wknn_test_nbrs.predict(X_Test.to_numpy())\n",
        "\n",
        "  # Prediction accuracy.\n",
        "  wknn_pred_acc = wknn_test_nbrs.score(X_Test.to_numpy(),flatten(Y_Test.to_numpy()))\n",
        "\n",
        "  print(\"The accuracy of the model is %f for K %d\" % (wknn_pred_acc, i))"
      ],
      "metadata": {
        "colab": {
          "base_uri": "https://localhost:8080/"
        },
        "id": "y0alAhfM6PFs",
        "outputId": "0c5d1369-3b90-4902-8323-65980b3de9db"
      },
      "execution_count": 72,
      "outputs": [
        {
          "output_type": "stream",
          "name": "stdout",
          "text": [
            "The accuracy of the model is 0.819209 for K 1\n",
            "The accuracy of the model is 0.830508 for K 3\n",
            "The accuracy of the model is 0.841808 for K 5\n",
            "The accuracy of the model is 0.841808 for K 7\n",
            "The accuracy of the model is 0.841808 for K 9\n",
            "The accuracy of the model is 0.847458 for K 11\n"
          ]
        }
      ]
    },
    {
      "cell_type": "markdown",
      "source": [
        "The Weigted-kNN does not outperform kNN for the given data set. \n",
        "It might be more suitable for larger data sets."
      ],
      "metadata": {
        "id": "RRAXH_EDRlm8"
      }
    }
  ]
}